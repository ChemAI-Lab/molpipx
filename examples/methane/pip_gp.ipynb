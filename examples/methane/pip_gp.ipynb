{
 "cells": [
  {
   "cell_type": "code",
   "execution_count": 13,
   "metadata": {},
   "outputs": [],
   "source": [
    "import jax\n",
    "import jax.numpy as jnp\n",
    "import jax.random as jrnd\n",
    "from jax import lax\n",
    "\n",
    "from pipjax import split_train_and_test_data\n",
    "from pipjax import LayerPIPAniso, EnergyPIPAniso, get_mask\n",
    "from pipjax import flax_params_aniso, flax_params\n",
    "from pipjax import training\n",
    "from pipjax import mse_loss\n",
    "\n",
    "\n",
    "from jaxtyping import (\n",
    "    Array,\n",
    "    Float,\n",
    "    install_import_hook,\n",
    ")\n",
    "import flax\n",
    "from flax import linen as nn"
   ]
  },
  {
   "cell_type": "code",
   "execution_count": 20,
   "metadata": {},
   "outputs": [
    {
     "name": "stdout",
     "output_type": "stream",
     "text": [
      "{'params': {'VmapJitPIPAniso_0': {'lambda': Array([0.5413248, 0.5413248], dtype=float32)}}}\n",
      "(2, 30)\n",
      "{'params': {'Dense_0': {'kernel': Array([[ 0.11259066],\n",
      "       [-0.36451352],\n",
      "       [ 0.349246  ],\n",
      "       [ 0.32477313],\n",
      "       [-0.16053773],\n",
      "       [-0.04156984],\n",
      "       [-0.14751948],\n",
      "       [-0.3737869 ],\n",
      "       [ 0.15433332],\n",
      "       [ 0.34224874],\n",
      "       [-0.05897916],\n",
      "       [-0.3216875 ],\n",
      "       [-0.06582694],\n",
      "       [ 0.1815665 ],\n",
      "       [ 0.02610331],\n",
      "       [ 0.12183519],\n",
      "       [-0.1231598 ],\n",
      "       [-0.02898795],\n",
      "       [-0.33764586],\n",
      "       [ 0.13511758],\n",
      "       [-0.23357956],\n",
      "       [ 0.01978089],\n",
      "       [ 0.05865088],\n",
      "       [ 0.02172922],\n",
      "       [ 0.12642488],\n",
      "       [ 0.26689187],\n",
      "       [ 0.01075804],\n",
      "       [ 0.17837593],\n",
      "       [-0.01628433],\n",
      "       [ 0.20572126]], dtype=float32)}, 'VmapJitPIPAniso_0': {'lambda': Array([0.5413248, 0.5413248], dtype=float32)}}}\n"
     ]
    }
   ],
   "source": [
    "from monomials_deg_3 import f_monomials as f_mono\n",
    "from polynomials_deg_3 import f_polynomials as f_poly\n",
    "\n",
    "from load_data_methane import read_geometry_energy as load_data\n",
    "\n",
    "rng = jrnd.PRNGKey(0)\n",
    "_, key = jrnd.split(rng)\n",
    "\n",
    "X_all, _, y_all, atoms_all = load_data()\n",
    "(X_tr, y_tr), (X_val, y_val) = split_train_and_test_data(X_all, y_all, 100,key,100)\n",
    "\n",
    "mask = get_mask(atoms_all[0])\n",
    "n_pairs = mask.shape[0]\n",
    "\n",
    "# initialize models\n",
    "model_pip = LayerPIPAniso(f_mono, f_poly, n_pairs)\n",
    "params_pip = model_pip.init(key, X_all[:1], mask)\n",
    "print(params_pip)\n",
    "\n",
    "pips_pred = model_pip.apply(params_pip,X_all[:2],mask)\n",
    "print(pips_pred.shape)\n",
    "\n",
    "model = EnergyPIPAniso(f_mono,f_poly, n_pairs)\n",
    "params_energy = model.init(key, X_all[:1], mask)\n",
    "\n",
    "print(params_energy)"
   ]
  },
  {
   "cell_type": "code",
   "execution_count": 33,
   "metadata": {},
   "outputs": [],
   "source": [
    "def validation_loss(l,data,params,models):\n",
    "    (X_tr,y_tr), (X_val,y_val) = data\n",
    "    params_pip, params_energy, mask = params\n",
    "    model_pip,model_energy = models\n",
    "    \n",
    "    def inner_training(l,X_tr,y_tr,params_pip):\n",
    "        params_pip = flax_params_aniso(l, params_pip)\n",
    "        Pip_tr = model_pip.apply(params_pip, X_tr, mask)\n",
    "        results = jnp.linalg.lstsq(Pip_tr, y_tr)\n",
    "        w = results[0]\n",
    "        return w\n",
    "\n",
    "    w = inner_training(l,X_tr,y_tr,params_pip)\n",
    "    params_energy = flax_params(w,params_energy)    \n",
    "    y_val_pred = model_energy.apply(params_energy, X_val, mask)\n",
    "    loss = mse_loss(y_val_pred,y_val)\n",
    "    return loss\n",
    "    \n",
    "        "
   ]
  },
  {
   "cell_type": "code",
   "execution_count": 52,
   "metadata": {},
   "outputs": [
    {
     "name": "stdout",
     "output_type": "stream",
     "text": [
      "[[1.7644291]\n",
      " [1.540358 ]]\n",
      "(100,)\n"
     ]
    },
    {
     "ename": "TypeError",
     "evalue": "dot_general requires contracting dimensions to have the same shape, got (30,) and (100,).",
     "output_type": "error",
     "traceback": [
      "\u001b[0;31m---------------------------------------------------------------------------\u001b[0m",
      "\u001b[0;31mTypeError\u001b[0m                                 Traceback (most recent call last)",
      "Cell \u001b[0;32mIn[52], line 26\u001b[0m\n\u001b[1;32m     23\u001b[0m     \u001b[38;5;28;01mreturn\u001b[39;00m results\n\u001b[1;32m     25\u001b[0m \u001b[38;5;66;03m# print(jax.value_and_grad(inner_training,argnums=(0,))(l_init,X_tr,y_tr,params_pip))\u001b[39;00m\n\u001b[0;32m---> 26\u001b[0m \u001b[38;5;28mprint\u001b[39m(\u001b[43minner_training\u001b[49m\u001b[43m(\u001b[49m\u001b[43ml_init\u001b[49m\u001b[43m,\u001b[49m\u001b[43mX_tr\u001b[49m\u001b[43m,\u001b[49m\u001b[43my_tr\u001b[49m\u001b[43m,\u001b[49m\u001b[43mparams_pip\u001b[49m\u001b[43m)\u001b[49m)\n",
      "Cell \u001b[0;32mIn[52], line 21\u001b[0m, in \u001b[0;36minner_training\u001b[0;34m(l, X_tr, y_tr, params_pip)\u001b[0m\n\u001b[1;32m     19\u001b[0m     \u001b[38;5;28mprint\u001b[39m(x\u001b[38;5;241m.\u001b[39mshape)\n\u001b[1;32m     20\u001b[0m     \u001b[38;5;28;01mreturn\u001b[39;00m Pip_tr\u001b[38;5;241m@\u001b[39m x\n\u001b[0;32m---> 21\u001b[0m results \u001b[38;5;241m=\u001b[39m \u001b[43mlinear_solve\u001b[49m\u001b[38;5;241;43m.\u001b[39;49m\u001b[43msolve_lu\u001b[49m\u001b[43m(\u001b[49m\u001b[43mmatvec_A\u001b[49m\u001b[43m,\u001b[49m\u001b[43m \u001b[49m\u001b[43my_tr\u001b[49m\u001b[38;5;241;43m.\u001b[39;49m\u001b[43mravel\u001b[49m\u001b[43m(\u001b[49m\u001b[43m)\u001b[49m\u001b[43m)\u001b[49m\n\u001b[1;32m     22\u001b[0m \u001b[38;5;66;03m# w = results[0]\u001b[39;00m\n\u001b[1;32m     23\u001b[0m \u001b[38;5;28;01mreturn\u001b[39;00m results\n",
      "File \u001b[0;32m/usr/local/anaconda3/envs/pipjax/lib/python3.10/site-packages/jaxopt/_src/linear_solve.py:59\u001b[0m, in \u001b[0;36msolve_lu\u001b[0;34m(matvec, b, ridge)\u001b[0m\n\u001b[1;32m     57\u001b[0m \u001b[38;5;28;01mif\u001b[39;00m ridge \u001b[38;5;129;01mis\u001b[39;00m \u001b[38;5;129;01mnot\u001b[39;00m \u001b[38;5;28;01mNone\u001b[39;00m:\n\u001b[1;32m     58\u001b[0m   matvec \u001b[38;5;241m=\u001b[39m _make_ridge_matvec(matvec, ridge\u001b[38;5;241m=\u001b[39mridge)\n\u001b[0;32m---> 59\u001b[0m A \u001b[38;5;241m=\u001b[39m \u001b[43m_materialize_array\u001b[49m\u001b[43m(\u001b[49m\u001b[43mmatvec\u001b[49m\u001b[43m,\u001b[49m\u001b[43m \u001b[49m\u001b[43mb\u001b[49m\u001b[38;5;241;43m.\u001b[39;49m\u001b[43mshape\u001b[49m\u001b[43m,\u001b[49m\u001b[43m \u001b[49m\u001b[43mb\u001b[49m\u001b[38;5;241;43m.\u001b[39;49m\u001b[43mdtype\u001b[49m\u001b[43m)\u001b[49m \u001b[38;5;66;03m# 4d array (tensor) if len(b.shape) == 2\u001b[39;00m\n\u001b[1;32m     60\u001b[0m \u001b[38;5;28;01mif\u001b[39;00m \u001b[38;5;28mlen\u001b[39m(b\u001b[38;5;241m.\u001b[39mshape) \u001b[38;5;241m==\u001b[39m \u001b[38;5;241m0\u001b[39m:\n\u001b[1;32m     61\u001b[0m   \u001b[38;5;28;01mif\u001b[39;00m A \u001b[38;5;241m==\u001b[39m \u001b[38;5;241m0.0\u001b[39m:\n",
      "File \u001b[0;32m/usr/local/anaconda3/envs/pipjax/lib/python3.10/site-packages/jaxopt/_src/linear_solve.py:32\u001b[0m, in \u001b[0;36m_materialize_array\u001b[0;34m(matvec, shape, dtype)\u001b[0m\n\u001b[1;32m     30\u001b[0m \u001b[38;5;250m\u001b[39m\u001b[38;5;124;03m\"\"\"Materializes the matrix A used in matvec(x) = Ax.\"\"\"\u001b[39;00m\n\u001b[1;32m     31\u001b[0m x \u001b[38;5;241m=\u001b[39m jnp\u001b[38;5;241m.\u001b[39mzeros(shape, dtype)\n\u001b[0;32m---> 32\u001b[0m \u001b[38;5;28;01mreturn\u001b[39;00m \u001b[43mjax\u001b[49m\u001b[38;5;241;43m.\u001b[39;49m\u001b[43mjacfwd\u001b[49m\u001b[43m(\u001b[49m\u001b[43mmatvec\u001b[49m\u001b[43m)\u001b[49m\u001b[43m(\u001b[49m\u001b[43mx\u001b[49m\u001b[43m)\u001b[49m\n",
      "File \u001b[0;32m/usr/local/anaconda3/envs/pipjax/lib/python3.10/site-packages/jax/_src/api.py:854\u001b[0m, in \u001b[0;36mjacfwd.<locals>.jacfun\u001b[0;34m(*args, **kwargs)\u001b[0m\n\u001b[1;32m    852\u001b[0m \u001b[38;5;28;01mif\u001b[39;00m \u001b[38;5;129;01mnot\u001b[39;00m has_aux:\n\u001b[1;32m    853\u001b[0m   pushfwd: Callable \u001b[38;5;241m=\u001b[39m partial(_jvp, f_partial, dyn_args)\n\u001b[0;32m--> 854\u001b[0m   y, jac \u001b[38;5;241m=\u001b[39m \u001b[43mvmap\u001b[49m\u001b[43m(\u001b[49m\u001b[43mpushfwd\u001b[49m\u001b[43m,\u001b[49m\u001b[43m \u001b[49m\u001b[43mout_axes\u001b[49m\u001b[38;5;241;43m=\u001b[39;49m\u001b[43m(\u001b[49m\u001b[38;5;28;43;01mNone\u001b[39;49;00m\u001b[43m,\u001b[49m\u001b[43m \u001b[49m\u001b[38;5;241;43m-\u001b[39;49m\u001b[38;5;241;43m1\u001b[39;49m\u001b[43m)\u001b[49m\u001b[43m)\u001b[49m\u001b[43m(\u001b[49m\u001b[43m_std_basis\u001b[49m\u001b[43m(\u001b[49m\u001b[43mdyn_args\u001b[49m\u001b[43m)\u001b[49m\u001b[43m)\u001b[49m\n\u001b[1;32m    855\u001b[0m \u001b[38;5;28;01melse\u001b[39;00m:\n\u001b[1;32m    856\u001b[0m   pushfwd: Callable \u001b[38;5;241m=\u001b[39m partial(_jvp, f_partial, dyn_args, has_aux\u001b[38;5;241m=\u001b[39m\u001b[38;5;28;01mTrue\u001b[39;00m)\n",
      "    \u001b[0;31m[... skipping hidden 5 frame]\u001b[0m\n",
      "Cell \u001b[0;32mIn[52], line 20\u001b[0m, in \u001b[0;36minner_training.<locals>.matvec_A\u001b[0;34m(x)\u001b[0m\n\u001b[1;32m     18\u001b[0m \u001b[38;5;28;01mdef\u001b[39;00m \u001b[38;5;21mmatvec_A\u001b[39m(x):\n\u001b[1;32m     19\u001b[0m     \u001b[38;5;28mprint\u001b[39m(x\u001b[38;5;241m.\u001b[39mshape)\n\u001b[0;32m---> 20\u001b[0m     \u001b[38;5;28;01mreturn\u001b[39;00m \u001b[43mPip_tr\u001b[49m\u001b[38;5;241;43m@\u001b[39;49m\u001b[43m \u001b[49m\u001b[43mx\u001b[49m\n",
      "File \u001b[0;32m/usr/local/anaconda3/envs/pipjax/lib/python3.10/site-packages/jax/_src/numpy/array_methods.py:271\u001b[0m, in \u001b[0;36m_defer_to_unrecognized_arg.<locals>.deferring_binary_op\u001b[0;34m(self, other)\u001b[0m\n\u001b[1;32m    269\u001b[0m args \u001b[38;5;241m=\u001b[39m (other, \u001b[38;5;28mself\u001b[39m) \u001b[38;5;28;01mif\u001b[39;00m swap \u001b[38;5;28;01melse\u001b[39;00m (\u001b[38;5;28mself\u001b[39m, other)\n\u001b[1;32m    270\u001b[0m \u001b[38;5;28;01mif\u001b[39;00m \u001b[38;5;28misinstance\u001b[39m(other, _accepted_binop_types):\n\u001b[0;32m--> 271\u001b[0m   \u001b[38;5;28;01mreturn\u001b[39;00m \u001b[43mbinary_op\u001b[49m\u001b[43m(\u001b[49m\u001b[38;5;241;43m*\u001b[39;49m\u001b[43margs\u001b[49m\u001b[43m)\u001b[49m\n\u001b[1;32m    272\u001b[0m \u001b[38;5;66;03m# Note: don't use isinstance here, because we don't want to raise for\u001b[39;00m\n\u001b[1;32m    273\u001b[0m \u001b[38;5;66;03m# subclasses, e.g. NamedTuple objects that may override operators.\u001b[39;00m\n\u001b[1;32m    274\u001b[0m \u001b[38;5;28;01mif\u001b[39;00m \u001b[38;5;28mtype\u001b[39m(other) \u001b[38;5;129;01min\u001b[39;00m _rejected_binop_types:\n",
      "    \u001b[0;31m[... skipping hidden 12 frame]\u001b[0m\n",
      "File \u001b[0;32m/usr/local/anaconda3/envs/pipjax/lib/python3.10/site-packages/jax/_src/numpy/lax_numpy.py:3359\u001b[0m, in \u001b[0;36mmatmul\u001b[0;34m(a, b, precision, preferred_element_type)\u001b[0m\n\u001b[1;32m   3357\u001b[0m a \u001b[38;5;241m=\u001b[39m lax\u001b[38;5;241m.\u001b[39msqueeze(a, \u001b[38;5;28mtuple\u001b[39m(a_squeeze))\n\u001b[1;32m   3358\u001b[0m b \u001b[38;5;241m=\u001b[39m lax\u001b[38;5;241m.\u001b[39msqueeze(b, \u001b[38;5;28mtuple\u001b[39m(b_squeeze))\n\u001b[0;32m-> 3359\u001b[0m out \u001b[38;5;241m=\u001b[39m \u001b[43mlax\u001b[49m\u001b[38;5;241;43m.\u001b[39;49m\u001b[43mdot_general\u001b[49m\u001b[43m(\u001b[49m\n\u001b[1;32m   3360\u001b[0m \u001b[43m  \u001b[49m\u001b[43ma\u001b[49m\u001b[43m,\u001b[49m\u001b[43m \u001b[49m\u001b[43mb\u001b[49m\u001b[43m,\u001b[49m\u001b[43m \u001b[49m\u001b[43m(\u001b[49m\u001b[43m(\u001b[49m\u001b[43m(\u001b[49m\u001b[43mndim\u001b[49m\u001b[43m(\u001b[49m\u001b[43ma\u001b[49m\u001b[43m)\u001b[49m\u001b[43m \u001b[49m\u001b[38;5;241;43m-\u001b[39;49m\u001b[43m \u001b[49m\u001b[38;5;241;43m1\u001b[39;49m\u001b[43m,\u001b[49m\u001b[43m)\u001b[49m\u001b[43m,\u001b[49m\u001b[43m \u001b[49m\u001b[43m(\u001b[49m\u001b[43mndim\u001b[49m\u001b[43m(\u001b[49m\u001b[43mb\u001b[49m\u001b[43m)\u001b[49m\u001b[43m \u001b[49m\u001b[38;5;241;43m-\u001b[39;49m\u001b[43m \u001b[49m\u001b[38;5;241;43m1\u001b[39;49m\u001b[43m \u001b[49m\u001b[38;5;241;43m-\u001b[39;49m\u001b[43m \u001b[49m\u001b[43mb_is_mat\u001b[49m\u001b[43m,\u001b[49m\u001b[43m)\u001b[49m\u001b[43m)\u001b[49m\u001b[43m,\u001b[49m\u001b[43m \u001b[49m\u001b[43m(\u001b[49m\u001b[43ma_batch\u001b[49m\u001b[43m,\u001b[49m\u001b[43m \u001b[49m\u001b[43mb_batch\u001b[49m\u001b[43m)\u001b[49m\u001b[43m)\u001b[49m\u001b[43m,\u001b[49m\n\u001b[1;32m   3361\u001b[0m \u001b[43m  \u001b[49m\u001b[43mprecision\u001b[49m\u001b[38;5;241;43m=\u001b[39;49m\u001b[43mprecision\u001b[49m\u001b[43m,\u001b[49m\u001b[43m \u001b[49m\u001b[43mpreferred_element_type\u001b[49m\u001b[38;5;241;43m=\u001b[39;49m\u001b[43mpreferred_element_type\u001b[49m\u001b[43m)\u001b[49m\n\u001b[1;32m   3362\u001b[0m result \u001b[38;5;241m=\u001b[39m lax\u001b[38;5;241m.\u001b[39mtranspose(out, perm)\n\u001b[1;32m   3363\u001b[0m \u001b[38;5;28;01mreturn\u001b[39;00m lax_internal\u001b[38;5;241m.\u001b[39m_convert_element_type(result, preferred_element_type, output_weak_type)\n",
      "    \u001b[0;31m[... skipping hidden 7 frame]\u001b[0m\n",
      "File \u001b[0;32m/usr/local/anaconda3/envs/pipjax/lib/python3.10/site-packages/jax/_src/lax/lax.py:2580\u001b[0m, in \u001b[0;36m_dot_general_shape_rule\u001b[0;34m(lhs, rhs, dimension_numbers, precision, preferred_element_type)\u001b[0m\n\u001b[1;32m   2577\u001b[0m \u001b[38;5;28;01mif\u001b[39;00m \u001b[38;5;129;01mnot\u001b[39;00m core\u001b[38;5;241m.\u001b[39mdefinitely_equal_shape(lhs_contracting_shape, rhs_contracting_shape):\n\u001b[1;32m   2578\u001b[0m   msg \u001b[38;5;241m=\u001b[39m (\u001b[38;5;124m\"\u001b[39m\u001b[38;5;124mdot_general requires contracting dimensions to have the same \u001b[39m\u001b[38;5;124m\"\u001b[39m\n\u001b[1;32m   2579\u001b[0m          \u001b[38;5;124m\"\u001b[39m\u001b[38;5;124mshape, got \u001b[39m\u001b[38;5;132;01m{}\u001b[39;00m\u001b[38;5;124m and \u001b[39m\u001b[38;5;132;01m{}\u001b[39;00m\u001b[38;5;124m.\u001b[39m\u001b[38;5;124m\"\u001b[39m)\n\u001b[0;32m-> 2580\u001b[0m   \u001b[38;5;28;01mraise\u001b[39;00m \u001b[38;5;167;01mTypeError\u001b[39;00m(msg\u001b[38;5;241m.\u001b[39mformat(lhs_contracting_shape, rhs_contracting_shape))\n\u001b[1;32m   2582\u001b[0m \u001b[38;5;28;01mreturn\u001b[39;00m _dot_general_shape_computation(lhs\u001b[38;5;241m.\u001b[39mshape, rhs\u001b[38;5;241m.\u001b[39mshape, dimension_numbers)\n",
      "\u001b[0;31mTypeError\u001b[0m: dot_general requires contracting dimensions to have the same shape, got (30,) and (100,)."
     ]
    }
   ],
   "source": [
    "from jaxopt import linear_solve\n",
    "\n",
    "l_init = jrnd.uniform(key,shape=(2,1),minval=1.,maxval=2.)\n",
    "print(nn.softplus(l_init))\n",
    "data = ((X_tr,y_tr), (X_val,y_val))\n",
    "models = (model_pip,model)\n",
    "params = (params_pip,params_energy,mask) \n",
    "\n",
    "# v,g = jax.value_and_grad(validation_loss,argnums=(0,))(l_init, data,params,models)\n",
    "# print(v)\n",
    "# print(g)\n",
    "def inner_training(l,X_tr,y_tr,params_pip):\n",
    "    params_pip = flax_params_aniso(l, params_pip)\n",
    "    Pip_tr = model_pip.apply(params_pip, X_tr, mask)\n",
    "    # results = jnp.linalg.lstsq(Pip_tr, y_tr)\n",
    "    # w = results[0]\n",
    "    # return jnp.sum(w)\n",
    "    def matvec_A(x):\n",
    "        print(x.shape)\n",
    "        return Pip_tr @ x\n",
    "    results = linear_solve.solve_lu(matvec_A, y_tr.ravel())\n",
    "    # w = results[0]\n",
    "    return results\n",
    "\n",
    "# print(jax.value_and_grad(inner_training,argnums=(0,))(l_init,X_tr,y_tr,params_pip))\n",
    "print(inner_training(l_init,X_tr,y_tr,params_pip))"
   ]
  },
  {
   "cell_type": "markdown",
   "metadata": {},
   "source": []
  },
  {
   "cell_type": "markdown",
   "metadata": {},
   "source": []
  }
 ],
 "metadata": {
  "kernelspec": {
   "display_name": "pipmsa_jax",
   "language": "python",
   "name": "python3"
  },
  "language_info": {
   "codemirror_mode": {
    "name": "ipython",
    "version": 3
   },
   "file_extension": ".py",
   "mimetype": "text/x-python",
   "name": "python",
   "nbconvert_exporter": "python",
   "pygments_lexer": "ipython3",
   "version": "3.10.13"
  }
 },
 "nbformat": 4,
 "nbformat_minor": 2
}
